{
 "cells": [
  {
   "cell_type": "markdown",
   "metadata": {},
   "source": [
    "# Dacon competition 9 EDA and Ideas\n",
    "Forecast without machine learning model  \n",
    "Sunmi Yoon (ysunmi0427@gmail.com, https://www.linkedin.com/in/yoonsunmi/)"
   ]
  },
  {
   "cell_type": "code",
   "execution_count": 1,
   "metadata": {},
   "outputs": [],
   "source": [
    "import pandas as pd"
   ]
  },
  {
   "cell_type": "code",
   "execution_count": 5,
   "metadata": {},
   "outputs": [],
   "source": [
    "train = pd.read_csv('../funda_train.csv')"
   ]
  },
  {
   "cell_type": "markdown",
   "metadata": {},
   "source": [
    "# Idea 1\n",
    "2018년 같은 기간(3월~5월)의 매출을 2019년 매출로 가정한다"
   ]
  },
  {
   "cell_type": "code",
   "execution_count": 9,
   "metadata": {},
   "outputs": [],
   "source": [
    "baseline = train[(train['transacted_date'] >= '2018-03-01') & (train['transacted_date'] <= '2018-05-31')].groupby('store_id')['amount'].sum()"
   ]
  },
  {
   "cell_type": "code",
   "execution_count": 10,
   "metadata": {},
   "outputs": [],
   "source": [
    "# baseline.to_csv('./submission.csv')"
   ]
  },
  {
   "cell_type": "markdown",
   "metadata": {},
   "source": [
    "# Idea 2\n",
    "1. Idea 1에서 누락된 store_id를 찾는다.\n",
    "2. 해당 store_id들에 대해서 가장 간단한 예측은 최근 N달 동안의 일평균 매출액을 구해 3월~5월(92일)을 곱해주는 것이다."
   ]
  },
  {
   "cell_type": "code",
   "execution_count": 23,
   "metadata": {},
   "outputs": [],
   "source": [
    "missing = set(train['store_id']) - set(baseline.index)\n",
    "missing_df = train[train['store_id'].isin(list(missing))]"
   ]
  },
  {
   "cell_type": "code",
   "execution_count": 26,
   "metadata": {},
   "outputs": [],
   "source": [
    "missing_predict = missing_df[(missing_df['transacted_date'] >= '2019-02-01') & (missing_df['transacted_date'] <= '2019-02-28')].groupby('store_id')['amount'].sum() * 92 / 28"
   ]
  },
  {
   "cell_type": "code",
   "execution_count": 28,
   "metadata": {},
   "outputs": [],
   "source": [
    "# pd.concat([missing_predict, baseline]).to_csv('./submission.csv')"
   ]
  }
 ],
 "metadata": {
  "kernelspec": {
   "display_name": "Python 3",
   "language": "python",
   "name": "python3"
  },
  "language_info": {
   "codemirror_mode": {
    "name": "ipython",
    "version": 3
   },
   "file_extension": ".py",
   "mimetype": "text/x-python",
   "name": "python",
   "nbconvert_exporter": "python",
   "pygments_lexer": "ipython3",
   "version": "3.7.4"
  }
 },
 "nbformat": 4,
 "nbformat_minor": 2
}
